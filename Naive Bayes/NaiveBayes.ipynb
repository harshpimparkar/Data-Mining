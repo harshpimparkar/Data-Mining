{
 "cells": [
  {
   "cell_type": "code",
   "execution_count": 12,
   "id": "36935e39-a940-4e3b-a76c-d093df8d3955",
   "metadata": {},
   "outputs": [
    {
     "name": "stdout",
     "output_type": "stream",
     "text": [
      "     Customer ID  Age  Gender  Occupation  Income  Brand Preference  \\\n",
      "0              1   42       1           0   87913                 1   \n",
      "1              2   23       1           1   78802                 3   \n",
      "2              3   51       0           1   22702                 2   \n",
      "3              4   35       0           1   89576                 3   \n",
      "4              5   37       0           2   90387                 0   \n",
      "..           ...  ...     ...         ...     ...               ...   \n",
      "995          996   22       0           1   36228                 2   \n",
      "996          997   37       1           2   31245                 0   \n",
      "997          998   28       1           1   53668                 3   \n",
      "998          999   19       0           2   55492                 0   \n",
      "999         1000   53       1           2   59441                 2   \n",
      "\n",
      "     Previous Purchases  \n",
      "0                     2  \n",
      "1                     2  \n",
      "2                     4  \n",
      "3                     3  \n",
      "4                     4  \n",
      "..                  ...  \n",
      "995                   3  \n",
      "996                   1  \n",
      "997                   2  \n",
      "998                   0  \n",
      "999                   4  \n",
      "\n",
      "[1000 rows x 7 columns]\n",
      "Confusion Matrix:\n",
      "[[197   0]\n",
      " [103   0]]\n",
      "Accuracy: 0.66\n"
     ]
    }
   ],
   "source": [
    "# Import necessary libraries\n",
    "import pandas as pd\n",
    "from sklearn.model_selection import train_test_split\n",
    "from sklearn.preprocessing import LabelEncoder\n",
    "from sklearn.naive_bayes import GaussianNB\n",
    "from sklearn.metrics import confusion_matrix, accuracy_score\n",
    "import matplotlib.pyplot as plt\n",
    "\n",
    "# Load the dataset\n",
    "data = pd.read_csv('laptop_buying_data.csv')\n",
    "\n",
    "# Feature selection\n",
    "X = data.drop('Purchase Intention', axis=1)\n",
    "y = data['Purchase Intention']\n",
    "\n",
    "# Encode categorical features\n",
    "le = LabelEncoder()\n",
    "X['Gender'] = le.fit_transform(X['Gender'])\n",
    "X['Occupation'] = le.fit_transform(X['Occupation'])\n",
    "X['Brand Preference'] = le.fit_transform(X['Brand Preference'])\n",
    "\n",
    "print(X)\n",
    "\n",
    "# Split the data into training and testing sets (70% train, 30% test)\n",
    "X_train, X_test, y_train, y_test = train_test_split(X, y, test_size=0.3, random_state=42)\n",
    "\n",
    "# Instantiate the Naive Bayes model\n",
    "nb_model = GaussianNB()\n",
    "\n",
    "# Fit the model\n",
    "nb_model.fit(X_train, y_train)\n",
    "\n",
    "# Predict the test data\n",
    "y_pred = nb_model.predict(X_test)\n",
    "\n",
    "# Calculate the confusion matrix\n",
    "conf_matrix = confusion_matrix(y_test, y_pred)\n",
    "\n",
    "# Print the confusion matrix\n",
    "print(\"Confusion Matrix:\")\n",
    "print(conf_matrix)\n",
    "\n",
    "# Print accuracy\n",
    "accuracy = accuracy_score(y_test, y_pred)\n",
    "print(f'Accuracy: {accuracy:.2f}')"
   ]
  },
  {
   "cell_type": "code",
   "execution_count": null,
   "id": "d0298757-2ee6-4284-b9c4-aeeb1e9b40c5",
   "metadata": {},
   "outputs": [],
   "source": []
  }
 ],
 "metadata": {
  "kernelspec": {
   "display_name": "Python 3 (ipykernel)",
   "language": "python",
   "name": "python3"
  },
  "language_info": {
   "codemirror_mode": {
    "name": "ipython",
    "version": 3
   },
   "file_extension": ".py",
   "mimetype": "text/x-python",
   "name": "python",
   "nbconvert_exporter": "python",
   "pygments_lexer": "ipython3",
   "version": "3.11.1"
  }
 },
 "nbformat": 4,
 "nbformat_minor": 5
}
