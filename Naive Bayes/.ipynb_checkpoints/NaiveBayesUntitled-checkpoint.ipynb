{
 "cells": [
  {
   "cell_type": "code",
   "execution_count": 1,
   "id": "0474aa27-5625-4dff-8013-153971e1b2ea",
   "metadata": {},
   "outputs": [],
   "source": [
    "import pandas as pd\n",
    "import numpy as np\n",
    "\n",
    "# Define the number of rows\n",
    "num_rows = 1000\n",
    "\n",
    "# Create a DataFrame\n",
    "data = pd.DataFrame({\n",
    "    'Customer ID': np.arange(1, num_rows+1),\n",
    "    'Age': np.random.randint(18, 60, size=num_rows),\n",
    "    'Gender': np.random.choice(['Male', 'Female'], size=num_rows),\n",
    "    'Occupation': np.random.choice(['Student', 'Professional', 'Business Owner'], size=num_rows),\n",
    "    'Income': np.random.randint(20000, 100000, size=num_rows),\n",
    "    'Brand Preference': np.random.choice(['Apple', 'Dell', 'HP', 'Lenovo'], size=num_rows),\n",
    "    'Previous Purchases': np.random.randint(0, 5, size=num_rows),\n",
    "    'Purchase Intention': np.random.choice([0, 1], size=num_rows, p=[0.7, 0.3])\n",
    "})\n",
    "\n",
    "# Save the DataFrame to a CSV file\n",
    "data.to_csv('laptop_buying_data.csv', index=False)"
   ]
  },
  {
   "cell_type": "code",
   "execution_count": 2,
   "id": "9b907d75-dc7b-4511-a485-4cb9a400502a",
   "metadata": {},
   "outputs": [],
   "source": [
    "import pandas as pd\n",
    "import numpy as np\n",
    "\n",
    "# Define the number of rows\n",
    "num_rows = 1000\n",
    "\n",
    "# Create a DataFrame\n",
    "data = pd.DataFrame({\n",
    "    'PassengerId': np.arange(1, num_rows+1),\n",
    "    'Pclass': np.random.choice([1, 2, 3], size=num_rows),\n",
    "    'Name': np.random.choice(['Mr.', 'Mrs.', 'Miss.', 'Master.'], size=num_rows),\n",
    "    'Sex': np.random.choice(['male', 'female'], size=num_rows),\n",
    "    'Age': np.random.randint(0, 80, size=num_rows),\n",
    "    'Sibling_Spouse': np.random.randint(0, 8, size=num_rows),\n",
    "    'Parent_children': np.random.randint(0, 6, size=num_rows),\n",
    "    'Ticket': np.random.choice(['A', 'B', 'C', 'D'], size=num_rows),\n",
    "    'Fare': np.random.uniform(low=0, high=500, size=num_rows),\n",
    "    'Cabin': np.random.choice(['A', 'B', 'C', 'D', 'E', 'F', 'G', 'T'], size=num_rows),\n",
    "    'Embarked': np.random.choice(['Southampton', 'Cherbourg', 'Queenstown'], size=num_rows),\n",
    "    'Survived': np.random.choice([0, 1], size=num_rows, p=[0.62, 0.38])\n",
    "})\n",
    "\n",
    "# Save the DataFrame to a CSV file\n",
    "data.to_csv('titanic_data.csv', index=False)"
   ]
  },
  {
   "cell_type": "code",
   "execution_count": null,
   "id": "36935e39-a940-4e3b-a76c-d093df8d3955",
   "metadata": {},
   "outputs": [],
   "source": []
  }
 ],
 "metadata": {
  "kernelspec": {
   "display_name": "Python 3 (ipykernel)",
   "language": "python",
   "name": "python3"
  },
  "language_info": {
   "codemirror_mode": {
    "name": "ipython",
    "version": 3
   },
   "file_extension": ".py",
   "mimetype": "text/x-python",
   "name": "python",
   "nbconvert_exporter": "python",
   "pygments_lexer": "ipython3",
   "version": "3.11.1"
  }
 },
 "nbformat": 4,
 "nbformat_minor": 5
}
